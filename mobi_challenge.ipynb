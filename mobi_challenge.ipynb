{
 "cells": [
  {
   "cell_type": "markdown",
   "metadata": {},
   "source": [
    "# Mobiliar Challenge\n",
    "\n",
    "See: https://mobiliar.jacando.jobs/ch/de/job/eriaH43V?layout=partners_iframe_header\n",
    "\n",
    "## Problem Statement\n",
    "The following string is given:"
   ]
  },
  {
   "cell_type": "code",
   "execution_count": 1,
   "metadata": {},
   "outputs": [],
   "source": [
    "mystery = '''aHR0cHM6Ly9jb3MtY2h hbGxlbmdlLnMzLmV1LW NlbnRyYWwtMS5hbWF6b\n",
    "\n",
    "25hd3MuY29tL2RkMGUw\n",
    "\n",
    "YTM2ODUyNGI0MjUzYzV lZjNiMzMwZWJlNjcxYT VlNjVmYTY0YzQyZWI2M\n",
    "\n",
    "DA3Yzk5YWNjMjczNmJk\n",
    "\n",
    "Nwo='''"
   ]
  },
  {
   "cell_type": "markdown",
   "metadata": {},
   "source": [
    "## Solution\n",
    "\n",
    "required python modules:"
   ]
  },
  {
   "cell_type": "code",
   "execution_count": 2,
   "metadata": {},
   "outputs": [],
   "source": [
    "import base64\n",
    "import urllib2\n",
    "import hexdump\n",
    "from capstone import *\n",
    "from unicorn import *\n",
    "from unicorn.x86_const import *"
   ]
  },
  {
   "cell_type": "markdown",
   "metadata": {},
   "source": [
    "First, decode the base64 string:"
   ]
  },
  {
   "cell_type": "code",
   "execution_count": 3,
   "metadata": {},
   "outputs": [
    {
     "name": "stdout",
     "output_type": "stream",
     "text": [
      "https://cos-challenge.s3.eu-central-1.amazonaws.com/dd0e0a368524b4253c5ef3b330ebe671a5e65fa64c42eb6007c99acc2736bd7\n"
     ]
    }
   ],
   "source": [
    "url = base64.b64decode(mystery).decode('utf-8').strip()\n",
    "print(url)"
   ]
  },
  {
   "cell_type": "markdown",
   "metadata": {},
   "source": [
    "The result is a file hosted on a [Amazon Simple Storage Service (S3)](https://aws.amazon.com/de/s3/) bin. Download the file into a buffer:"
   ]
  },
  {
   "cell_type": "code",
   "execution_count": 4,
   "metadata": {},
   "outputs": [],
   "source": [
    "buf = urllib2.urlopen(url).read()"
   ]
  },
  {
   "cell_type": "markdown",
   "metadata": {},
   "source": [
    "Output the contents of the file:"
   ]
  },
  {
   "cell_type": "code",
   "execution_count": 5,
   "metadata": {},
   "outputs": [
    {
     "name": "stdout",
     "output_type": "stream",
     "text": [
      "00000000: 64 65 66 20 45 28 69 6E  70 75 74 5F 62 79 74 65  def E(input_byte\n",
      "00000010: 29 3A 0A 20 20 72 65 74  75 72 6E 20 63 68 72 28  ):.  return chr(\n",
      "00000020: 69 6E 74 28 27 30 78 32  61 27 20 2B 20 69 6E 70  int('0x2a' + inp\n",
      "00000030: 75 74 5F 62 79 74 65 2C  20 62 61 73 65 3D 31 36  ut_byte, base=16\n",
      "00000040: 29 29 0A 0A E2 A9 96 E2  A8 B2 E2 A9 96 E2 A9 B3  ))..............\n",
      "00000050: E2 A9 A2 E2 A9 83 E2 A9  82 E2 A9 AB E2 A9 A2 E2  ................\n",
      "00000060: A8 B2 E2 A8 B5 E2 A9 AC  E2 A9 89 E2 A9 84 E2 A9  ................\n",
      "00000070: AF E2 A9 B4 E2 A9 8B E2  A9 93 E2 A9 81 E2 A9 A8  ................\n",
      "00000080: E2 A9 89 E2 A9 93 E2 A9  82 E2 A9 93 E2 A9 A4 E2  ................\n",
      "00000090: A9 97 E2 A8 B4 E2 A9 A7  E2 A9 A4 E2 A9 87 E2 A9  ................\n",
      "000000A0: A8 E2 A9 B0 E2 A9 A3 E2  A9 B9 E2 A9 82 E2 A9 A8  ................\n",
      "000000B0: E2 A9 A3 E2 A9 B9 E2 A9  82 E2 A8 B4 E2 A9 8E E2  ................\n",
      "000000C0: A9 AA E2 A9 91 E2 A9 A7  E2 A9 99 E2 A8 B2 E2 A8  ................\n",
      "000000D0: B9 E2 A9 AB E2 A9 9A E2  A9 93 E2 A9 82 E2 A9 A8  ................\n",
      "000000E0: E2 A9 A2 E2 A9 AD E2 A9  91 E2 A9 A7 E2 A9 9A E2  ................\n",
      "000000F0: A8 B2 E2 A9 96 E2 A8 B0  E2 A9 89 E2 A9 88 E2 A9  ................\n",
      "00000100: AC E2 A9 B6 E2 A9 A4 E2  A9 98 E2 A9 89 E2 A9 A7  ................\n",
      "00000110: E2 A9 9A E2 A9 AD E2 A9  B8 E2 A9 A8 E2 A9 9A E2  ................\n",
      "00000120: A9 B9 E2 A9 85 E2 A9 A7  E2 A9 90 E2 A9 83 E2 A8  ................\n",
      "00000130: B1 E2 A9 BA 0A E2 A9 A4  E2 A9 87 E2 A9 86 E2 A9  ................\n",
      "00000140: B9 E2 A9 A4 E2 A9 83 E2  A8 B1 E2 A9 A8 E2 A9 9A  ................\n",
      "00000150: E2 A9 AE E2 A9 92 E2 A9  AC E2 A9 A3 E2 A9 A9 E2  ................\n",
      "00000160: A8 B1 E2 A8 B0 E2 A9 A1  E2 A9 87 E2 A9 AC E2 A9  ................\n",
      "00000170: BA E2 A9 8C E2 A9 97 E2  A8 B1 E2 A9 A8 E2 A9 A1  ................\n",
      "00000180: E2 A8 B2 E2 A9 96 E2 A9  B9 E2 A9 90 E2 A9 AB E2  ................\n",
      "00000190: A9 A7 E2 A9 B8 E2 A9 B9  E2 A9 95 E2 A9 A9 E2 A9  ................\n",
      "000001A0: 82 E2 A8 B6 E2 A9 A4 E2  A9 AA E2 A8 AF E2 A8 AF  ................\n",
      "000001B0: E2 A8 AF E2 A8 B9 E2 A9  89 E2 A9 AA E2 A9 91 E2  ................\n",
      "000001C0: A9 98 E2 A9 B6 E2 A8 AF  E2 A8 AF E2 A8 AF E2 A8  ................\n",
      "000001D0: AF E2 A9 93 E2 A9 8C E2  A9 B3 E2 A9 A7 E2 A9 A7  ................\n",
      "000001E0: E2 A9 87 E2 A9 A3 E2 A9  AA E2 A9 89 E2 A8 AB E2  ................\n",
      "000001F0: A9 85 E2 A9 B7 E2 A9 83  E2 A9 85 E2 A9 A7 E2 A9  ................\n",
      "00000200: B8 E2 A9 97 E2 A9 83 E2  A9 A4 E2 A9 89 E2 A9 8C  ................\n",
      "00000210: E2 A9 A6 E2 A9 AA E2 A8  AF E2 A8 AF E2 A8 AF E2  ................\n",
      "00000220: A8 AF E2 A9 A9 0A E2 A8  B9 E2 A9 8E E2 A9 BA E2  ................\n",
      "00000230: A9 89 E2 A8 B5 E2 A9 B3  E2 A9 A6 E2 A9 94 E2 A9  ................\n",
      "00000240: 88 E2 A9 B3 E2 A8 AF E2  A8 B3 E2 A9 B9 E2 A9 86  ................\n",
      "00000250: E2 A9 82 E2 A9 AE E2 A9  89 E2 A9 B9 E2 A9 8F E2  ................\n",
      "00000260: A9 A7 E2 A9 99 E2 A9 95  E2 A9 AC E2 A9 B7 E2 A8  ................\n",
      "00000270: B0 E2 A9 AA E2 A9 9A E2  A8 B1 E2 A9 A1 E2 A8 B9  ................\n",
      "00000280: E2 A9 84 E2 A9 A9 E2 A9  A2 E2 A9 97 E2 A9 A7 E2  ................\n",
      "00000290: A9 8C E2 A9 8E E2 A9 95  E2 A9 8D E2 A9 A4 E2 A9  ................\n",
      "000002A0: B1 E2 A9 A2 E2 A9 B4 E2  A9 A1 E2 A9 8F E2 A9 8C  ................\n",
      "000002B0: E2 A8 B4 E2 A9 B6 E2 A9  B1 E2 A9 88 E2 A9 88 E2  ................\n",
      "000002C0: A9 82 E2 A9 84 E2 A9 AB  E2 A9 83 E2 A9 B2 E2 A8  ................\n",
      "000002D0: B8 E2 A9 AA E2 A9 A3 E2  A9 A4 E2 A9 A1 E2 A8 AB  ................\n",
      "000002E0: E2 A8 B6 E2 A9 88 E2 A9  91 E2 A9 AD E2 A9 B2 E2  ................\n",
      "000002F0: A9 8E E2 A9 96 E2 A9 B5  E2 A9 B0 E2 A9 B2 E2 A8  ................\n",
      "00000300: B0 E2 A9 90 E2 A9 83 E2  A9 AB E2 A9 88 E2 A9 8F  ................\n",
      "00000310: E2 A9 85 E2 A9 A2 0A E2  A9 89 E2 A9 91 E2 A8 AF  ................\n",
      "00000320: E2 A9 82 E2 A9 A3 E2 A9  A3 E2 A9 AE E2 A9 B0 E2  ................\n",
      "00000330: A9 AA E2 A9 93 E2 A9 99  E2 A9 A9 E2 A8 B4 E2 A9  ................\n",
      "00000340: A7 E2 A9 90 E2 A9 A4 E2  A9 97 E2 A9 AD E2 A9 88  ................\n",
      "00000350: E2 A9 92 E2 A9 97 E2 A9  97 E2 A9 B5 E2 A9 AF E2  ................\n",
      "00000360: A9 B3 E2 A9 B8 E2 A9 81  E2 A8 B2 E2 A9 B1 E2 A8  ................\n",
      "00000370: B8 E2 A9 8A E2 A9 A2 E2  A9 A1 E2 A9 B9 E2 A9 89  ................\n",
      "00000380: E2 A9 B8 E2 A9 84 E2 A9  AF E2 A9 8F E2 A9 A7 E2  ................\n",
      "00000390: A9 83 E2 A9 87 E2 A9 A3  E2 A9 AA E2 A9 89 E2 A8  ................\n",
      "000003A0: B6 E2 A9 AD E2 A8 B1 E2  A9 B9 E2 A9 86 E2 A9 94  ................\n",
      "000003B0: E2 A9 B6 E2 A9 8C E2 A9  B9 E2 A9 8C E2 A9 BA E2  ................\n",
      "000003C0: A9 B3 E2 A9 91 E2 A8 B6  E2 A9 84 E2 A9 A1 E2 A9  ................\n",
      "000003D0: 8A E2 A9 A8 E2 A9 9A E2  A9 9A E2 A8 B6 E2 A9 A9  ................\n",
      "000003E0: E2 A9 A8 E2 A9 85 E2 A9  85 E2 A9 85 E2 A9 A8 E2  ................\n",
      "000003F0: A9 95 E2 A9 89 E2 A9 92  E2 A8 AF E2 A9 A1 E2 A9  ................\n",
      "00000400: B8 E2 A8 B7 E2 A8 B5 0A  E2 A9 8E E2 A9 AD E2 A9  ................\n",
      "00000410: 85 E2 A9 8C E2 A9 95 E2  A8 B6 E2 A9 B4 E2 A9 B2  ................\n",
      "00000420: E2 A8 B4 E2 A9 8F E2 A9  9A E2 A9 86 E2 A9 85 E2  ................\n",
      "00000430: A9 95 E2 A9 AB E2 A9 B6  E2 A9 85 E2 A9 B5 E2 A9  ................\n",
      "00000440: 8E E2 A9 8E E2 A9 A3 E2  A9 A3 E2 A9 AE E2 A9 B0  ................\n",
      "00000450: E2 A9 AA E2 A9 93 E2 A9  99 E2 A9 A9 E2 A8 B4 E2  ................\n",
      "00000460: A9 B4 E2 A9 AE E2 A9 91  E2 A9 A6 E2 A9 A4 E2 A9  ................\n",
      "00000470: 87 E2 A8 AB E2 A9 8B E2  A9 B9 E2 A9 82 E2 A9 B6  ................\n",
      "00000480: E2 A9 B8 E2 A9 94 E2 A9  A8 E2 A9 8E E2 A9 87 E2  ................\n",
      "00000490: A9 96 E2 A9 85 E2 A9 93  E2 A8 B9 E2 A9 98 E2 A9  ................\n",
      "000004A0: B6 E2 A9 A6 E2 A9 A4 E2  A9 89 E2 A9 8E E2 A9 A7  ................\n",
      "000004B0: E2 A9 B0 E2 A9 83 E2 A8  B4 E2 A9 A9 E2 A8 B8 E2  ................\n",
      "000004C0: A8 B4 E2 A9 A3 E2 A9 8F  E2 A9 93 E2 A9 A1 E2 A9  ................\n",
      "000004D0: B5 E2 A9 8D E2 A9 8C E2  A9 B8 E2 A8 B1 E2 A9 AE  ................\n",
      "000004E0: E2 A9 A1 E2 A9 AE E2 A9  81 E2 A9 95 E2 A9 A1 E2  ................\n",
      "000004F0: A9 99 E2 A9 87 E2 A8 B3  0A E2 A9 88 E2 A9 97 E2  ................\n",
      "00000500: A9 8A E2 A9 B1 E2 A9 8E  E2 A9 89 E2 A9 82 E2 A9  ................\n",
      "00000510: AF E2 A9 A7 E2 A9 A2 E2  A9 A4 E2 A9 A9 E2 A9 A5  ................\n",
      "00000520: E2 A8 B6 E2 A9 82 E2 A9  AF E2 A9 96 E2 A9 AE E2  ................\n",
      "00000530: A9 AE E2 A9 A1 E2 A9 8A  E2 A9 AE E2 A9 B4 E2 A9  ................\n",
      "00000540: A9 E2 A9 B5 E2 A9 88 E2  A9 86 E2 A9 93 E2 A9 A1  ................\n",
      "00000550: E2 A9 81 E2 A9 8F E2 A9  8C E2 A9 81 E2 A8 B2 E2  ................\n",
      "00000560: A9 8B E2 A9 BA E2 A9 BA  E2 A8 AB E2 A9 A8 E2 A8  ................\n",
      "00000570: B4 E2 A9 B7 E2 A9 94 E2  A8 B5 E2 A8 B5 E2 A9 88  ................\n",
      "00000580: E2 A9 A1 E2 A9 AD E2 A8  B7 E2 A9 87 E2 A9 B3 E2  ................\n",
      "00000590: A9 AE E2 A9 8A E2 A9 AD  E2 A9 8E E2 A9 BA E2 A9  ................\n",
      "000005A0: A3 E2 A9 B6 E2 A9 88 E2  A9 AE E2 A9 90 E2 A8 B4  ................\n",
      "000005B0: E2 A9 99 E2 A9 82 E2 A9  AE E2 A9 89 E2 A9 B9 E2  ................\n",
      "000005C0: A9 90 E2 A9 A6 E2 A9 A5  E2 A9 89 E2 A9 97 E2 A8  ................\n",
      "000005D0: B1 E2 A9 A6 E2 A9 AD E2  A9 A3 E2 A9 AA E2 A9 89  ................\n",
      "000005E0: E2 A8 B9 E2 A8 B9 E2 A8  B8 0A E2 A9 A8 E2 A9 A1  ................\n",
      "000005F0: E2 A9 97 E2 A9 AB E2 A9  9A E2 A9 A9 E2 A9 8D E2  ................\n",
      "00000600: A9 AA E2 A9 B1 E2 A9 91  E2 A9 88 E2 A9 82 E2 A9  ................\n",
      "00000610: 99 E2 A9 94 E2 A9 AF E2  A9 A9 E2 A9 AF E2 A9 88  ................\n",
      "00000620: E2 A9 98 E2 A9 AD E2 A9  BA E2 A8 B9 E2 A8 B1 E2  ................\n",
      "00000630: A9 AF E2 A9 B3 E2 A9 A1  E2 A8 B5 E2 A9 A9 E2 A9  ................\n",
      "00000640: AD E2 A9 92 E2 A9 87 E2  A9 86 E2 A9 B1 E2 A9 AE  ................\n",
      "00000650: E2 A9 9A E2 A8 AF E2 A9  B3 E2 A9 AC E2 A9 92 E2  ................\n",
      "00000660: A9 87 E2 A9 AA E2 A9 96  E2 A9 B7 E2 A9 AF E2 A9  ................\n",
      "00000670: 92 E2 A9 8F E2 A8 B8 E2  A9 8A E2 A9 92 E2 A9 A7  ................\n",
      "00000680: E2 A9 8C E2 A9 82 E2 A9  93 E2 A9 97 E2 A9 A4 E2  ................\n",
      "00000690: A9 96 E2 A8 B8 E2 A9 AB  E2 A9 A4 E2 A9 86 E2 A9  ................\n",
      "000006A0: 94 E2 A8 B4 E2 A9 82 E2  A9 98 E2 A9 8B E2 A9 85  ................\n",
      "000006B0: E2 A9 AE E2 A9 BA E2 A9  98 E2 A9 91 E2 A9 8E E2  ................\n",
      "000006C0: A9 99 E2 A9 AA E2 A9 85  E2 A9 8E E2 A9 AE E2 A9  ................\n",
      "000006D0: 91 E2 A8 B9 E2 A8 B8 E2  A9 96 0A E2 A9 96 E2 A9  ................\n",
      "000006E0: AB E2 A8 AB E2 A9 85 E2  A9 93 E2 A9 AE E2 A9 95  ................\n",
      "000006F0: E2 A9 A7 E2 A9 BA E2 A9  91 E2 A9 8A E2 A9 91 E2  ................\n",
      "00000700: A9 95 E2 A9 89 E2 A9 82  E2 A9 98 E2 A9 A2 E2 A9  ................\n",
      "00000710: 97 E2 A9 8C E2 A9 B6 E2  A9 88 E2 A9 B9 E2 A9 8D  ................\n",
      "00000720: E2 A9 AA E2 A8 B4 E2 A9  94 E2 A9 81 E2 A9 89 E2  ................\n",
      "00000730: A9 83 E2 A9 A7 E2 A8 BD  E2 A8 BD E2 A8 8A 0A     ...............\n"
     ]
    }
   ],
   "source": [
    "hexdump.hexdump(buf)"
   ]
  },
  {
   "cell_type": "markdown",
   "metadata": {},
   "source": [
    "The content of the file shows what seems to be an encryption function `E()` followed by a byte buffer. The `E()` function takes each byte value from an unknown buffer and prepends the value `0x2a` to it, and finally converts it to a character. The appended buffer seems to be the output of this function.\n",
    "\n",
    "Before the character conversion, the 16bit values can be seen as [Unicode Codepoints](https://en.wikipedia.org/wiki/Unicode#Code_point_planes_and_blocks) in the range [U+2A00 to U+2AFF (Supplemental Mathematical Operators](https://www.utf8-chartable.de/unicode-utf8-table.pl?start=10752&view=3)\n",
    "\n",
    "The character conversion is done with [UTF-8](https://en.wikipedia.org/wiki/UTF-8) encoding, which gives the following result:"
   ]
  },
  {
   "cell_type": "code",
   "execution_count": 6,
   "metadata": {},
   "outputs": [
    {
     "name": "stdout",
     "output_type": "stream",
     "text": [
      "⩖⨲⩖⩳⩢⩃⩂⩫⩢⨲⨵⩬⩉⩄⩯⩴⩋⩓⩁⩨⩉⩓⩂⩓⩤⩗⨴⩧⩤⩇⩨⩰⩣⩹⩂⩨⩣⩹⩂⨴⩎⩪⩑⩧⩙⨲⨹⩫⩚⩓⩂⩨⩢⩭⩑⩧⩚⨲⩖⨰⩉⩈⩬⩶⩤⩘⩉⩧⩚⩭⩸⩨⩚⩹⩅⩧⩐⩃⨱⩺⩤⩇⩆⩹⩤⩃⨱⩨⩚⩮⩒⩬⩣⩩⨱⨰⩡⩇⩬⩺⩌⩗⨱⩨⩡⨲⩖⩹⩐⩫⩧⩸⩹⩕⩩⩂⨶⩤⩪⨯⨯⨯⨹⩉⩪⩑⩘⩶⨯⨯⨯⨯⩓⩌⩳⩧⩧⩇⩣⩪⩉⨫⩅⩷⩃⩅⩧⩸⩗⩃⩤⩉⩌⩦⩪⨯⨯⨯⨯⩩⨹⩎⩺⩉⨵⩳⩦⩔⩈⩳⨯⨳⩹⩆⩂⩮⩉⩹⩏⩧⩙⩕⩬⩷⨰⩪⩚⨱⩡⨹⩄⩩⩢⩗⩧⩌⩎⩕⩍⩤⩱⩢⩴⩡⩏⩌⨴⩶⩱⩈⩈⩂⩄⩫⩃⩲⨸⩪⩣⩤⩡⨫⨶⩈⩑⩭⩲⩎⩖⩵⩰⩲⨰⩐⩃⩫⩈⩏⩅⩢⩉⩑⨯⩂⩣⩣⩮⩰⩪⩓⩙⩩⨴⩧⩐⩤⩗⩭⩈⩒⩗⩗⩵⩯⩳⩸⩁⨲⩱⨸⩊⩢⩡⩹⩉⩸⩄⩯⩏⩧⩃⩇⩣⩪⩉⨶⩭⨱⩹⩆⩔⩶⩌⩹⩌⩺⩳⩑⨶⩄⩡⩊⩨⩚⩚⨶⩩⩨⩅⩅⩅⩨⩕⩉⩒⨯⩡⩸⨷⨵⩎⩭⩅⩌⩕⨶⩴⩲⨴⩏⩚⩆⩅⩕⩫⩶⩅⩵⩎⩎⩣⩣⩮⩰⩪⩓⩙⩩⨴⩴⩮⩑⩦⩤⩇⨫⩋⩹⩂⩶⩸⩔⩨⩎⩇⩖⩅⩓⨹⩘⩶⩦⩤⩉⩎⩧⩰⩃⨴⩩⨸⨴⩣⩏⩓⩡⩵⩍⩌⩸⨱⩮⩡⩮⩁⩕⩡⩙⩇⨳⩈⩗⩊⩱⩎⩉⩂⩯⩧⩢⩤⩩⩥⨶⩂⩯⩖⩮⩮⩡⩊⩮⩴⩩⩵⩈⩆⩓⩡⩁⩏⩌⩁⨲⩋⩺⩺⨫⩨⨴⩷⩔⨵⨵⩈⩡⩭⨷⩇⩳⩮⩊⩭⩎⩺⩣⩶⩈⩮⩐⨴⩙⩂⩮⩉⩹⩐⩦⩥⩉⩗⨱⩦⩭⩣⩪⩉⨹⨹⨸⩨⩡⩗⩫⩚⩩⩍⩪⩱⩑⩈⩂⩙⩔⩯⩩⩯⩈⩘⩭⩺⨹⨱⩯⩳⩡⨵⩩⩭⩒⩇⩆⩱⩮⩚⨯⩳⩬⩒⩇⩪⩖⩷⩯⩒⩏⨸⩊⩒⩧⩌⩂⩓⩗⩤⩖⨸⩫⩤⩆⩔⨴⩂⩘⩋⩅⩮⩺⩘⩑⩎⩙⩪⩅⩎⩮⩑⨹⨸⩖⩖⩫⨫⩅⩓⩮⩕⩧⩺⩑⩊⩑⩕⩉⩂⩘⩢⩗⩌⩶⩈⩹⩍⩪⨴⩔⩁⩉⩃⩧⨽⨽⨊\n"
     ]
    }
   ],
   "source": [
    "encrypted = buf[0x44:].decode('utf-8').replace('\\n', '')\n",
    "print(encrypted)"
   ]
  },
  {
   "cell_type": "markdown",
   "metadata": {},
   "source": [
    "In the next step we define the following function `D()` needed to reconstruct the original buffer:"
   ]
  },
  {
   "cell_type": "code",
   "execution_count": 7,
   "metadata": {},
   "outputs": [],
   "source": [
    "def D(input_char):\n",
    "    code_point = ord(input_char)\n",
    "#    print(\"%s: %s (%s)\" % (input_char, input_char.encode('utf-8'), hex(code_point)))\n",
    "    byte_value = code_point - 0x2a00\n",
    "    return chr(byte_value)"
   ]
  },
  {
   "cell_type": "markdown",
   "metadata": {},
   "source": [
    "The function `D()` applied iteratively to the ciphertext reveals the original buffer:"
   ]
  },
  {
   "cell_type": "code",
   "execution_count": 8,
   "metadata": {},
   "outputs": [
    {
     "name": "stdout",
     "output_type": "stream",
     "text": [
      "V2VsbCBkb25lIDotKSAhISBSdW4gdGhpcyBhcyB4NjQgY29kZSBhbmQgZ2V0IHlvdXIgZmxhZyEgPC1zdGFydC1hZnRlci10aGlzLW1ha2VyPkgxyUiB6dj///9IjQXv////SLsggGcjI+EwCEgxWCdILfj////i9NzI5sfTHs/3yFBnIyOgYUlw0jZ1a9DibWgLNUMdqbtaOL4vqHHBDkCr8jcda+6HQmrNVupr0PCkHOEbIQ/BccnpjSYi4gPdWmHRWWuosxA2q8JbayIxDoOgCGcjI6m1yFTvLyLzsQ6DaJhZZ6ihEEEhUIR/ax75NmELU6tr4OZFEUkvEuNNccnpjSYi4tnQfdG+KyBvxThNGVES9XvfdINgpC4i84cOSauMLx1nanAUaYG3HWJqNIBogbdie6BoVnnaJntiuHFSaAOLA2Kzz+h4wT55Ham7GsnJmNzcvHnP4YBnIyPfeIW1fmcjI998haWkZiMjqQHBYToioHXmz91osa5imRGFqnZ/slRGjVwoRO8JRgLBSWdV8kdFT4BXKEnzXQNYjENnQ98VVk+ESnUgzQJQUIBXbWLvHyMj4TAICg==\n",
      "\n"
     ]
    }
   ],
   "source": [
    "decrypted = ''.join([D(c) for c in encrypted])\n",
    "print(decrypted)"
   ]
  },
  {
   "cell_type": "markdown",
   "metadata": {},
   "source": [
    "This in turn seems to be yet another Base64 encoded buffer:"
   ]
  },
  {
   "cell_type": "code",
   "execution_count": 9,
   "metadata": {},
   "outputs": [
    {
     "name": "stdout",
     "output_type": "stream",
     "text": [
      "00000000: 57 65 6C 6C 20 64 6F 6E  65 20 3A 2D 29 20 21 21  Well done :-) !!\n",
      "00000010: 20 52 75 6E 20 74 68 69  73 20 61 73 20 78 36 34   Run this as x64\n",
      "00000020: 20 63 6F 64 65 20 61 6E  64 20 67 65 74 20 79 6F   code and get yo\n",
      "00000030: 75 72 20 66 6C 61 67 21  20 3C 2D 73 74 61 72 74  ur flag! <-start\n",
      "00000040: 2D 61 66 74 65 72 2D 74  68 69 73 2D 6D 61 6B 65  -after-this-make\n",
      "00000050: 72 3E 48 31 C9 48 81 E9  D8 FF FF FF 48 8D 05 EF  r>H1.H......H...\n",
      "00000060: FF FF FF 48 BB 20 80 67  23 23 E1 30 08 48 31 58  ...H. .g##.0.H1X\n",
      "00000070: 27 48 2D F8 FF FF FF E2  F4 DC C8 E6 C7 D3 1E CF  'H-.............\n",
      "00000080: F7 C8 50 67 23 23 A0 61  49 70 D2 36 75 6B D0 E2  ..Pg##.aIp.6uk..\n",
      "00000090: 6D 68 0B 35 43 1D A9 BB  5A 38 BE 2F A8 71 C1 0E  mh.5C...Z8./.q..\n",
      "000000A0: 40 AB F2 37 1D 6B EE 87  42 6A CD 56 EA 6B D0 F0  @..7.k..Bj.V.k..\n",
      "000000B0: A4 1C E1 1B 21 0F C1 71  C9 E9 8D 26 22 E2 03 DD  ....!..q...&\"...\n",
      "000000C0: 5A 61 D1 59 6B A8 B3 10  36 AB C2 5B 6B 22 31 0E  Za.Yk...6..[k\"1.\n",
      "000000D0: 83 A0 08 67 23 23 A9 B5  C8 54 EF 2F 22 F3 B1 0E  ...g##...T./\"...\n",
      "000000E0: 83 68 98 59 67 A8 A1 10  41 21 50 84 7F 6B 1E F9  .h.Yg...A!P..k..\n",
      "000000F0: 36 61 0B 53 AB 6B E0 E6  45 11 49 2F 12 E3 4D 71  6a.S.k..E.I/..Mq\n",
      "00000100: C9 E9 8D 26 22 E2 D9 D0  7D D1 BE 2B 20 6F C5 38  ...&\"...}..+ o.8\n",
      "00000110: 4D 19 51 12 F5 7B DF 74  83 60 A4 2E 22 F3 87 0E  M.Q..{.t.`..\"...\n",
      "00000120: 49 AB 8C 2F 1D 67 6A 70  14 69 81 B7 1D 62 6A 34  I../.gjp.i...bj4\n",
      "00000130: 80 68 81 B7 62 7B A0 68  56 79 DA 26 7B 62 B8 71  .h..b{.hVy.&{b.q\n",
      "00000140: 52 68 03 8B 03 62 B3 CF  E8 78 C1 3E 79 1D A9 BB  Rh...b...x.>y...\n",
      "00000150: 1A C9 C9 98 DC DC BC 79  CF E1 80 67 23 23 DF 78  .......y...g##.x\n",
      "00000160: 85 B5 7E 67 23 23 DF 7C  85 A5 A4 66 23 23 A9 01  ..~g##.|...f##..\n",
      "00000170: C1 61 3A 22 A0 75 E6 CF  DD 68 B1 AE 62 99 11 85  .a:\".u...h..b...\n",
      "00000180: AA 76 7F B2 54 46 8D 5C  28 44 EF 09 46 02 C1 49  .v..TF.\\(D..F..I\n",
      "00000190: 67 55 F2 47 45 4F 80 57  28 49 F3 5D 03 58 8C 43  gU.GEO.W(I.].X.C\n",
      "000001A0: 67 43 DF 15 56 4F 84 4A  75 20 CD 02 50 50 80 57  gC..VO.Ju ..PP.W\n",
      "000001B0: 6D 62 EF 1F 23 23 E1 30  08 0A                    mb..##.0..\n"
     ]
    }
   ],
   "source": [
    "decoded = base64.b64decode(decrypted)\n",
    "hexdump.hexdump(decoded)"
   ]
  },
  {
   "cell_type": "markdown",
   "metadata": {},
   "source": [
    "The result is [x86-64](https://en.wikipedia.org/wiki/X86-64) machine code, which we can disassemble with the [Capstone Engine](http://www.capstone-engine.org/):"
   ]
  },
  {
   "cell_type": "code",
   "execution_count": 10,
   "metadata": {},
   "outputs": [
    {
     "name": "stdout",
     "output_type": "stream",
     "text": [
      "0x0000: 48 31 C9                         xor\trcx, rcx\n",
      "0x0003: 48 81 E9 D8 FF FF FF             sub\trcx, -0x28\n",
      "0x000a: 48 8D 05 EF FF FF FF             lea\trax, [rip - 0x11]\n",
      "0x0011: 48 BB 20 80 67 23 23 E1 30 08    movabs\trbx, 0x830e12323678020\n",
      "0x001b: 48 31 58 27                      xor\tqword ptr [rax + 0x27], rbx\n",
      "0x001f: 48 2D F8 FF FF FF                sub\trax, -8\n",
      "0x0025: E2 F4                            loop\t0x1b\n",
      "0x0027: DC C8                            fmul\tst(0), st(0)\n",
      "0x0029: E6 C7                            out\t0xc7, al\n",
      "0x002b: D3 1E                            rcr\tdword ptr [rsi], cl\n",
      "0x002d: CF                               iretd\t\n",
      "0x002e: F7 C8 50 67 23 23                test\teax, 0x23236750\n",
      "0x0034: A0 61 49 70 D2 36 75 6B D0       movabs\tal, byte ptr [0xd06b7536d2704961]\n",
      "0x003d: E2 6D                            loop\t0xac\n",
      "0x003f: 68 0B 35 43 1D                   push\t0x1d43350b\n",
      "0x0044: A9 BB 5A 38 BE                   test\teax, 0xbe385abb\n"
     ]
    }
   ],
   "source": [
    "CODE = decoded[0x52:]\n",
    "md = Cs(CS_ARCH_X86, CS_MODE_64)\n",
    "for i in md.disasm(CODE, 0x0000):\n",
    "    print(\"0x%04x: %s %s\\t%s\" %(i.address, hexdump.dump(i.bytes).ljust(32), i.mnemonic, i.op_str))\n"
   ]
  },
  {
   "cell_type": "markdown",
   "metadata": {},
   "source": [
    "Now let's do a symbolic execution of the code using the [Unicorn Engine](https://www.unicorn-engine.org/docs/tutorial.html):"
   ]
  },
  {
   "cell_type": "code",
   "execution_count": 11,
   "metadata": {},
   "outputs": [
    {
     "name": "stdout",
     "output_type": "stream",
     "text": [
      "00000000: 48 31 C9 48 81 E9 D8 FF  FF FF 48 8D 05 EF FF FF  H1.H......H.....\n",
      "00000010: FF 48 BB 20 80 67 23 23  E1 30 08 48 31 58 27 48  .H. .g##.0.H1X'H\n",
      "00000020: 2D F8 FF FF FF E2 F4 FC  48 81 E4 F0 FF FF FF E8  -.......H.......\n",
      "00000030: D0 00 00 00 41 51 41 50  52 51 56 48 31 D2 65 48  ....AQAPRQVH1.eH\n",
      "00000040: 8B 52 60 3E 48 8B 52 18  3E 48 8B 52 20 3E 48 8B  .R`>H.R.>H.R >H.\n",
      "00000050: 72 50 3E 48 0F B7 4A 4A  4D 31 C9 48 31 C0 AC 3C  rP>H..JJM1.H1..<\n",
      "00000060: 61 7C 02 2C 20 41 C1 C9  0D 41 01 C1 E2 ED 52 41  a|., A...A....RA\n",
      "00000070: 51 3E 48 8B 52 20 3E 8B  42 3C 48 01 D0 3E 8B 80  Q>H.R >.B<H..>..\n",
      "00000080: 88 00 00 00 48 85 C0 74  6F 48 01 D0 50 3E 8B 48  ....H..toH..P>.H\n",
      "00000090: 18 3E 44 8B 40 20 49 01  D0 E3 5C 48 FF C9 3E 41  .>D.@ I...\\H..>A\n",
      "000000A0: 8B 34 88 48 01 D6 4D 31  C9 48 31 C0 AC 41 C1 C9  .4.H..M1.H1..A..\n",
      "000000B0: 0D 41 01 C1 38 E0 75 F1  3E 4C 03 4C 24 08 45 39  .A..8.u.>L.L$.E9\n",
      "000000C0: D1 75 D6 58 3E 44 8B 40  24 49 01 D0 66 3E 41 8B  .u.X>D.@$I..f>A.\n",
      "000000D0: 0C 48 3E 44 8B 40 1C 49  01 D0 3E 41 8B 04 88 48  .H>D.@.I..>A...H\n",
      "000000E0: 01 D0 41 58 41 58 5E 59  5A 41 58 41 59 41 5A 48  ..AXAX^YZAXAYAZH\n",
      "000000F0: 83 EC 20 41 52 FF E0 58  41 59 5A 3E 48 8B 12 E9  .. AR..XAYZ>H...\n",
      "00000100: 49 FF FF FF 5D 49 C7 C1  00 00 00 00 3E 48 8D 95  I...]I......>H..\n",
      "00000110: FE 00 00 00 3E 4C 8D 85  24 01 00 00 48 31 C9 41  ....>L..$...H1.A\n",
      "00000120: BA 45 83 56 07 FF D5 48  31 C9 41 BA F0 B5 A2 56  .E.V...H1.A....V\n",
      "00000130: FF D5 77 65 6C 6C 20 64  6F 6E 65 21 20 79 6F 75  ..well done! you\n",
      "00000140: 72 20 66 6C 61 67 20 69  73 3A 20 7B 6D 73 6F 63  r flag is: {msoc\n",
      "00000150: 5F 72 75 6C 65 7A 7D 00  4D 65 73 73 61 67 65 42  _rulez}.MessageB\n",
      "00000160: 6F 78 00 00 00 00 00 0A  00 00 00 00 00 00 00 00  ox..............\n",
      "00000170: 00 00 00 00 00 00 00 00  00 00 00 00 00 00 00 00  ................\n",
      "00000180: 00 00 00 00 00 00 00 00  00 00 00 00 00 00 00 00  ................\n",
      "00000190: 00 00 00 00 00 00 00 00  00 00 00 00 00 00 00 00  ................\n",
      "000001A0: 00 00 00 00 00 00 00 00  00 00 00 00 00 00 00 00  ................\n",
      "000001B0: 00 00 00 00 00 00 00 00  00 00 00 00 00 00 00 00  ................\n",
      "000001C0: 00 00 00 00 00 00 00 00  00 00 00 00 00 00 00 00  ................\n",
      "000001D0: 00 00 00 00 00 00 00 00  00 00 00 00 00 00 00 00  ................\n",
      "000001E0: 00 00 00 00 00 00 00 00  00 00 00 00 00 00 00 00  ................\n",
      "000001F0: 00 00 00 00 00 00 00 00  00 00 00 00 00 00 00 00  ................\n"
     ]
    }
   ],
   "source": [
    "mu = Uc(UC_ARCH_X86, UC_MODE_64)\n",
    "mu.mem_map(0, 2*1024*1024)\n",
    "mu.mem_write(0, CODE)\n",
    "try:\n",
    "    mu.emu_start(0, 512)\n",
    "except UcError as e:\n",
    "    pass\n",
    "mem = mu.mem_read(0, 512)\n",
    "hexdump.hexdump(str(mem))"
   ]
  },
  {
   "cell_type": "markdown",
   "metadata": {},
   "source": [
    "The code writes the flag to memory near offset 0x00000140. It says: `{msoc_rulez}`. What I can say is: this challenge rules ! :-)"
   ]
  },
  {
   "cell_type": "code",
   "execution_count": null,
   "metadata": {},
   "outputs": [],
   "source": []
  }
 ],
 "metadata": {
  "kernelspec": {
   "display_name": "venv",
   "language": "python",
   "name": "venv"
  },
  "language_info": {
   "codemirror_mode": {
    "name": "ipython",
    "version": 2
   },
   "file_extension": ".py",
   "mimetype": "text/x-python",
   "name": "python",
   "nbconvert_exporter": "python",
   "pygments_lexer": "ipython2",
   "version": "2.7.10"
  }
 },
 "nbformat": 4,
 "nbformat_minor": 2
}
